{
  "nbformat": 4,
  "nbformat_minor": 0,
  "metadata": {
    "colab": {
      "provenance": [],
      "authorship_tag": "ABX9TyNbFfibvCFEN37QFWKr+W9W",
      "include_colab_link": true
    },
    "kernelspec": {
      "name": "python3",
      "display_name": "Python 3"
    },
    "language_info": {
      "name": "python"
    }
  },
  "cells": [
    {
      "cell_type": "markdown",
      "metadata": {
        "id": "view-in-github",
        "colab_type": "text"
      },
      "source": [
        "<a href=\"https://colab.research.google.com/github/Josix5/programacionWeb/blob/main/IMC_Franco_Jose.ipynb\" target=\"_parent\"><img src=\"https://colab.research.google.com/assets/colab-badge.svg\" alt=\"Open In Colab\"/></a>"
      ]
    },
    {
      "cell_type": "markdown",
      "source": [
        "## Calculo del Indice de Masa Corporal"
      ],
      "metadata": {
        "id": "OeMqS-MQI_DN"
      }
    },
    {
      "cell_type": "code",
      "source": [
        "#@title Cálculo del IMC { run: \"auto\" }\n",
        "estatura = 1.80 #@param {type:\"number\"}\n",
        "peso = 75 #@param {type:\"number\"}\n",
        "imc=peso/estatura**2\n",
        "print(imc)"
      ],
      "metadata": {
        "colab": {
          "base_uri": "https://localhost:8080/"
        },
        "id": "0AbafbLKIJtu",
        "outputId": "d5af11e3-659d-4ea0-f3de-e04bfcfc0a13"
      },
      "execution_count": 6,
      "outputs": [
        {
          "output_type": "stream",
          "name": "stdout",
          "text": [
            "Ingrese su peso en Kilogramos: 50\n",
            "Ingrese su estatura en metros: 1.72\n",
            "Su IMC es de 16.9\n"
          ]
        }
      ]
    }
  ]
}